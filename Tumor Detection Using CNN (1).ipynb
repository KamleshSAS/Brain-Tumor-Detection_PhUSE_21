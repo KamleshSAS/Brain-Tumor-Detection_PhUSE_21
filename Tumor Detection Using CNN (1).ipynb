{
 "cells": [
  {
   "cell_type": "markdown",
   "metadata": {},
   "source": [
    "# Import libraries"
   ]
  },
  {
   "cell_type": "code", 
   "execution_count": 4,
   "metadata": {
    "_cell_guid": "79c7e3d0-c299-4dcb-8224-4455121ee9b0",
    "_uuid": "d629ff2d2480ee46fbb7e2d37f6b5fab8052498a"
   },
   "outputs": [],
   "source": [
    "import numpy as np\n",
    "import pandas as pd\n",
    "import seaborn as sns\n",
    "import matplotlib.pyplot as plt\n",
    "import cv2\n",
    "import os\n",
    "\n",
    "from sklearn.model_selection import train_test_split"
   ]
  },
  {
   "cell_type": "markdown",
   "metadata": {},
   "source": [
    "# Store every image in an array"
   ]
  },
  {
   "cell_type": "code",
   "execution_count": 5,
   "metadata": {},
   "outputs": [],
   "source": [
    "data_dir = (r'C:\\Users\\Desktop\\Phuse\\Training')\n",
    "categories = ['glioma_tumor', 'meningioma_tumor', 'no_tumor', 'pituitary_tumor']\n",
    "for i in categories:\n",
    "    path = os.path.join(data_dir, i)\n",
    "    for img in os.listdir(path):\n",
    "        img_array = cv2.imread(os.path.join(path,img))       "
   ]
  },
  {
   "cell_type": "markdown",
   "metadata": {},
   "source": [
    "# Resize each image to same size for fast processing"
   ]
  },
  {
   "cell_type": "code",
   "execution_count": 6,
   "metadata": {},
   "outputs": [],
   "source": [
    "#Resize each Image\n",
    "\n",
    "img_size = 128\n",
    "image_array = cv2.resize(img_array, (img_size,img_size))"
   ]
  },
  {
   "cell_type": "markdown",
   "metadata": {},
   "source": [
    "# Convert each image to grayscale and append into an array"
   ]
  },
  {
   "cell_type": "code",
   "execution_count": 7,
   "metadata": {},
   "outputs": [],
   "source": [
    "#Convert Image to Grayscale\n",
    "\n",
    "train_data = []\n",
    "for i in categories:\n",
    "    train_path = os.path.join(data_dir,i)\n",
    "    tag = categories.index(i)\n",
    "    for img in os.listdir(train_path):\n",
    "        try:\n",
    "            image_arr = cv2.imread(os.path.join(train_path , img), cv2.IMREAD_GRAYSCALE)\n",
    "            new_image_array = cv2.resize(image_arr, (img_size,img_size))\n",
    "            train_data.append([new_image_array , tag])\n",
    "        except Exception as e:\n",
    "            pass"
   ]
  },
  {
   "cell_type": "markdown",
   "metadata": {},
   "source": [
    "# Split the features and target in to X and y"
   ]
  },
  {
   "cell_type": "code",
   "execution_count": 8,
   "metadata": {},
   "outputs": [
    {
     "name": "stdout",
     "output_type": "stream",
     "text": [
      "(2870, 128, 128)\n"
     ]
    }
   ],
   "source": [
    "X = []\n",
    "y = []\n",
    "for i,j in train_data:\n",
    "    X.append(i)\n",
    "    y.append(j)\n",
    "X = np.array(X).reshape(-1,img_size,img_size)\n",
    "print(X.shape)\n",
    "\n",
    "#normalize image pixel value.\n",
    "\n",
    "X = X/255.0  \n",
    "X = X.reshape(-1,128,128,1)"
   ]
  },
  {
   "cell_type": "markdown",
   "metadata": {},
   "source": [
    "# One-Hot encode the target column "
   ]
  },
  {
   "cell_type": "code",
   "execution_count": 9,
   "metadata": {},
   "outputs": [],
   "source": [
    "#One-Hot encode\n",
    "\n",
    "from keras.utils.np_utils import to_categorical   \n",
    "\n",
    "y_enc = to_categorical(y, num_classes = 4)"
   ]
  },
  {
   "cell_type": "markdown",
   "metadata": {},
   "source": [
    "# Split the data into Train & Test dataset."
   ]
  },
  {
   "cell_type": "code",
   "execution_count": 10,
   "metadata": {},
   "outputs": [],
   "source": [
    "X_train , X_test, y_train, y_test = train_test_split(X , y, test_size = 0.2, random_state = 42)\n"
   ]
  },
  {
   "cell_type": "markdown",
   "metadata": {},
   "source": [
    "# Create CNN model"
   ]
  },
  {
   "cell_type": "code",
   "execution_count": 15,
   "metadata": {},
   "outputs": [],
   "source": [
    "from sklearn.metrics import confusion_matrix\n",
    "import itertools\n",
    "\n",
    "from keras.utils.np_utils import to_categorical \n",
    "from keras.models import Sequential\n",
    "from keras.layers import Dense, Dropout, Flatten, Conv2D, MaxPool2D\n",
    "from keras.optimizers import RMSprop,Adam\n",
    "from keras.preprocessing.image import ImageDataGenerator\n",
    "from keras.callbacks import ReduceLROnPlateau\n",
    "from keras.callbacks import EarlyStopping\n",
    "\n",
    "model = Sequential()\n",
    "\n",
    "model.add(Conv2D(filters = 64, kernel_size = (5,5),padding = 'Same', activation ='relu', input_shape = (128,128,1)))\n",
    "model.add(MaxPool2D(pool_size=(2,2)))\n",
    "model.add(Dropout(0.2))\n",
    "model.add(Conv2D(filters = 128, kernel_size = (3,3),padding = 'Same', activation ='relu'))\n",
    "model.add(MaxPool2D(pool_size=(2,2), strides=(2,2)))\n",
    "model.add(Dropout(0.2))\n",
    "model.add(Conv2D(filters = 128, kernel_size = (3,3),padding = 'Same', activation ='relu'))\n",
    "model.add(MaxPool2D(pool_size=(2,2), strides=(2,2)))\n",
    "model.add(Dropout(0.2))\n",
    "model.add(Conv2D(filters = 128, kernel_size = (2,2),padding = 'Same', activation ='relu'))\n",
    "model.add(MaxPool2D(pool_size=(2,2), strides=(2,2)))\n",
    "model.add(Dropout(0.2))\n",
    "model.add(Conv2D(filters = 256, kernel_size = (2,2),padding = 'Same', activation ='relu'))\n",
    "model.add(MaxPool2D(pool_size=(2,2), strides=(2,2)))\n",
    "model.add(Dropout(0.2))\n",
    "\n",
    "model.add(Flatten())\n",
    "model.add(Dense(1024, activation = \"relu\"))\n",
    "model.add(Dropout(0.5))\n",
    "\n",
    "model.add(Dense(4, activation = \"softmax\"))\n",
    "optimizer = Adam(lr=0.001, beta_1=0.9, beta_2=0.999)\n",
    "model.compile(optimizer = optimizer , loss = \"categorical_crossentropy\", metrics=[\"accuracy\"])\n",
    "\n",
    "\n",
    "epochs = 20\n",
    "\n",
    "\n",
    "earlystopping = EarlyStopping(\n",
    "    monitor='val_accuracy', \n",
    "    mode='max',\n",
    "    patience = 3\n",
    ")\n",
    "\n",
    "\n",
    "batch_size = 16\n",
    "imggen = ImageDataGenerator(\n",
    "        featurewise_center=False,  \n",
    "        samplewise_center=False, \n",
    "        featurewise_std_normalization=False,  \n",
    "        samplewise_std_normalization=False,  \n",
    "        zca_whitening=False,  \n",
    "        rotation_range=0,\n",
    "        zoom_range = 0,\n",
    "        width_shift_range=0,  \n",
    "        height_shift_range=0,  \n",
    "        horizontal_flip=True,  \n",
    "        vertical_flip=False)"
   ]
  },
  {
   "cell_type": "code",
   "execution_count": 12,
   "metadata": {},
   "outputs": [
    {
     "name": "stdout",
     "output_type": "stream",
     "text": [
      "Model: \"sequential_1\"\n",
      "_________________________________________________________________\n",
      "Layer (type)                 Output Shape              Param #   \n",
      "=================================================================\n",
      "conv2d_5 (Conv2D)            (None, 128, 128, 64)      1664      \n",
      "_________________________________________________________________\n",
      "max_pooling2d_5 (MaxPooling2 (None, 64, 64, 64)        0         \n",
      "_________________________________________________________________\n",
      "dropout_6 (Dropout)          (None, 64, 64, 64)        0         \n",
      "_________________________________________________________________\n",
      "conv2d_6 (Conv2D)            (None, 64, 64, 128)       73856     \n",
      "_________________________________________________________________\n",
      "max_pooling2d_6 (MaxPooling2 (None, 32, 32, 128)       0         \n",
      "_________________________________________________________________\n",
      "dropout_7 (Dropout)          (None, 32, 32, 128)       0         \n",
      "_________________________________________________________________\n",
      "conv2d_7 (Conv2D)            (None, 32, 32, 128)       147584    \n",
      "_________________________________________________________________\n",
      "max_pooling2d_7 (MaxPooling2 (None, 16, 16, 128)       0         \n",
      "_________________________________________________________________\n",
      "dropout_8 (Dropout)          (None, 16, 16, 128)       0         \n",
      "_________________________________________________________________\n",
      "conv2d_8 (Conv2D)            (None, 16, 16, 128)       65664     \n",
      "_________________________________________________________________\n",
      "max_pooling2d_8 (MaxPooling2 (None, 8, 8, 128)         0         \n",
      "_________________________________________________________________\n",
      "dropout_9 (Dropout)          (None, 8, 8, 128)         0         \n",
      "_________________________________________________________________\n",
      "conv2d_9 (Conv2D)            (None, 8, 8, 256)         131328    \n",
      "_________________________________________________________________\n",
      "max_pooling2d_9 (MaxPooling2 (None, 4, 4, 256)         0         \n",
      "_________________________________________________________________\n",
      "dropout_10 (Dropout)         (None, 4, 4, 256)         0         \n",
      "_________________________________________________________________\n",
      "flatten_1 (Flatten)          (None, 4096)              0         \n",
      "_________________________________________________________________\n",
      "dense_2 (Dense)              (None, 1024)              4195328   \n",
      "_________________________________________________________________\n",
      "dropout_11 (Dropout)         (None, 1024)              0         \n",
      "_________________________________________________________________\n",
      "dense_3 (Dense)              (None, 4)                 4100      \n",
      "=================================================================\n",
      "Total params: 4,619,524\n",
      "Trainable params: 4,619,524\n",
      "Non-trainable params: 0\n",
      "_________________________________________________________________\n"
     ]
    }
   ],
   "source": [
    "model.summary()"
   ]
  },
  {
   "cell_type": "markdown",
   "metadata": {},
   "source": [
    "# Fit the model with Train and Validation datatsets"
   ]
  },
  {
   "cell_type": "code",
   "execution_count": 18,
   "metadata": {},
   "outputs": [
    {
     "name": "stderr",
     "output_type": "stream",
     "text": [
      "C:\\Anaconda\\lib\\site-packages\\tensorflow\\python\\keras\\engine\\training.py:1844: UserWarning: `Model.fit_generator` is deprecated and will be removed in a future version. Please use `Model.fit`, which supports generators.\n",
      "  warnings.warn('`Model.fit_generator` is deprecated and '\n"
     ]
    },
    {
     "name": "stdout",
     "output_type": "stream",
     "text": [
      "Epoch 1/20\n",
      "145/145 [==============================] - 67s 457ms/step - loss: 1.3273 - accuracy: 0.3643 - val_loss: 1.1206 - val_accuracy: 0.4942\n",
      "Epoch 2/20\n",
      "145/145 [==============================] - 67s 461ms/step - loss: 1.0398 - accuracy: 0.5398 - val_loss: 0.7937 - val_accuracy: 0.6409\n",
      "Epoch 3/20\n",
      "145/145 [==============================] - 73s 503ms/step - loss: 0.7588 - accuracy: 0.6457 - val_loss: 0.6902 - val_accuracy: 0.6680\n",
      "Epoch 4/20\n",
      "145/145 [==============================] - 79s 547ms/step - loss: 0.6832 - accuracy: 0.6996 - val_loss: 0.5664 - val_accuracy: 0.7336\n",
      "Epoch 5/20\n",
      "145/145 [==============================] - 80s 550ms/step - loss: 0.5547 - accuracy: 0.7508 - val_loss: 0.5235 - val_accuracy: 0.7915\n",
      "Epoch 6/20\n",
      "145/145 [==============================] - 80s 551ms/step - loss: 0.4711 - accuracy: 0.8153 - val_loss: 0.5100 - val_accuracy: 0.7876\n",
      "Epoch 7/20\n",
      "145/145 [==============================] - 80s 552ms/step - loss: 0.4712 - accuracy: 0.8109 - val_loss: 0.4331 - val_accuracy: 0.8147\n",
      "Epoch 8/20\n",
      "145/145 [==============================] - 80s 552ms/step - loss: 0.4203 - accuracy: 0.8192 - val_loss: 0.4103 - val_accuracy: 0.8340\n",
      "Epoch 9/20\n",
      "145/145 [==============================] - 79s 548ms/step - loss: 0.3840 - accuracy: 0.8352 - val_loss: 0.4335 - val_accuracy: 0.8108\n",
      "Epoch 10/20\n",
      "145/145 [==============================] - 80s 549ms/step - loss: 0.3279 - accuracy: 0.8680 - val_loss: 0.3364 - val_accuracy: 0.8726\n",
      "Epoch 11/20\n",
      "145/145 [==============================] - 80s 553ms/step - loss: 0.3025 - accuracy: 0.8787 - val_loss: 0.3794 - val_accuracy: 0.8494\n",
      "Epoch 12/20\n",
      "145/145 [==============================] - 79s 548ms/step - loss: 0.3000 - accuracy: 0.8761 - val_loss: 0.3313 - val_accuracy: 0.8764\n",
      "Epoch 13/20\n",
      "145/145 [==============================] - 85s 586ms/step - loss: 0.2911 - accuracy: 0.8799 - val_loss: 0.3033 - val_accuracy: 0.8803\n",
      "Epoch 14/20\n",
      "145/145 [==============================] - 82s 567ms/step - loss: 0.2654 - accuracy: 0.8929 - val_loss: 0.2996 - val_accuracy: 0.8803\n",
      "Epoch 15/20\n",
      "145/145 [==============================] - 86s 595ms/step - loss: 0.2341 - accuracy: 0.9077 - val_loss: 0.3574 - val_accuracy: 0.8726\n",
      "Epoch 16/20\n",
      "145/145 [==============================] - 86s 590ms/step - loss: 0.3093 - accuracy: 0.8811 - val_loss: 0.2920 - val_accuracy: 0.9073\n",
      "Epoch 17/20\n",
      "145/145 [==============================] - 82s 565ms/step - loss: 0.2130 - accuracy: 0.9178 - val_loss: 0.3310 - val_accuracy: 0.8803\n",
      "Epoch 18/20\n",
      "145/145 [==============================] - 85s 586ms/step - loss: 0.2177 - accuracy: 0.9141 - val_loss: 0.3145 - val_accuracy: 0.8880\n",
      "Epoch 19/20\n",
      "145/145 [==============================] - 83s 574ms/step - loss: 0.2023 - accuracy: 0.9189 - val_loss: 0.2874 - val_accuracy: 0.9073\n",
      "Epoch 20/20\n",
      "145/145 [==============================] - 82s 566ms/step - loss: 0.2291 - accuracy: 0.9109 - val_loss: 0.2817 - val_accuracy: 0.8880\n"
     ]
    }
   ],
   "source": [
    "imggen.fit(X_train)\n",
    "history = model.fit_generator(imggen.flow(X_train,y_train,batch_size = batch_size),\n",
    "                              epochs = epochs, validation_data = (X_val,y_val),\n",
    "                              steps_per_epoch = X_train.shape[0] // batch_size)    "
   ]
  },
  {
   "cell_type": "code",
   "execution_count": null,
   "metadata": {},
   "outputs": [],
   "source": [
    "model.save(\"tumor1.h5\")"
   ]
  },
  {
   "cell_type": "markdown",
   "metadata": {},
   "source": [
    "# Plot the Loss vs Epochs graph to visualize loss at each epoch"
   ]
  },
  {
   "cell_type": "code",
   "execution_count": 13,
   "metadata": {},
   "outputs": [
    {
     "data": {
      "image/png": "[encoded data removed]",
      "text/plain": [
       "<Figure size 360x360 with 1 Axes>"
      ]
     },
     "metadata": {
      "needs_background": "light"
     },
     "output_type": "display_data"
    }
   ],
   "source": [
    "plt.plot(history.history[\"loss\"],c = \"red\")\n",
    "plt.plot(history.history[\"val_loss\"],c = \"black\")\n",
    "plt.title(\"Loss\")\n",
    "plt.ylabel(\"Loss\")\n",
    "plt.xlabel(\"Epochs\")\n",
    "plt.legend([\"train\", \"test\"])\n",
    "plt.rcParams[\"figure.figsize\"] = (10,10)\n",
    "plt.show()"
   ]
  },
  {
   "cell_type": "markdown",
   "metadata": {},
   "source": [
    "# Plot Accuracy vs Epoch to visualize accuracy at each epoch"
   ]
  },
  {
   "cell_type": "code",
   "execution_count": 14,
   "metadata": {},
   "outputs": [
    {
     "data": {
      "text/plain": [
       "<matplotlib.legend.Legend at 0x21b93655190>"
      ]
     },
     "execution_count": 14,
     "metadata": {},
     "output_type": "execute_result"
    },
    {
     "data": {
      "image/png": "[encoded data removed]",
      "text/plain": [
       "<Figure size 720x720 with 1 Axes>"
      ]
     },
     "metadata": {
      "needs_background": "light"
     },
     "output_type": "display_data"
    }
   ],
   "source": [
    "plt.plot(history.history[\"accuracy\"],c = \"blue\")\n",
    "plt.plot(history.history[\"val_accuracy\"],c = \"green\")\n",
    "plt.title(\"Accuracy\")\n",
    "plt.ylabel(\"Accuracy\")\n",
    "plt.xlabel(\"Epochs\")\n",
    "plt.rcParams[\"figure.figsize\"] = (50,50)\n",
    "plt.legend([\"train\", \"test\"])"
   ]
  },
  {
   "cell_type": "markdown",
   "metadata": {},
   "source": [
    "# Accuracy of Test Dataset"
   ]
  },
  {
   "cell_type": "markdown",
   "metadata": {},
   "source": [
    "# Testing Accuracy "
   ]
  },
  {
   "cell_type": "code",
   "execution_count": 15,
   "metadata": {},
   "outputs": [
    {
     "data": {
      "text/plain": [
       "0.9163762927055359"
      ]
     },
     "execution_count": 15,
     "metadata": {},
     "output_type": "execute_result"
    }
   ],
   "source": [
    "\n",
    "score = model.evaluate(X_test, y_test, verbose = 0)\n",
    "score[1]"
   ]
  },
  {
   "cell_type": "markdown",
   "metadata": {},
   "source": [
    "# Training Accuracy"
   ]
  },
  {
   "cell_type": "code",
   "execution_count": 16,
   "metadata": {},
   "outputs": [
    {
     "data": {
      "text/plain": [
       "0.9750430583953857"
      ]
     },
     "execution_count": 16,
     "metadata": {},
     "output_type": "execute_result"
    }
   ],
   "source": [
    "\n",
    "score = model.evaluate(X_train, y_train, verbose = 0)\n",
    "score[1]"
   ]
  }
 ],
 "metadata": {
  "kernelspec": {
   "display_name": "Python 3",
   "language": "python",
   "name": "python3"
  },
  "language_info": {
   "codemirror_mode": {
    "name": "ipython",
    "version": 3
   },
   "file_extension": ".py",
   "mimetype": "text/x-python",
   "name": "python",
   "nbconvert_exporter": "python",
   "pygments_lexer": "ipython3",
   "version": "3.8.5"
  }
 },
 "nbformat": 4,
 "nbformat_minor": 4
}
